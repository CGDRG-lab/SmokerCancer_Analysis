{
 "cells": [
  {
   "cell_type": "code",
   "execution_count": 5,
   "metadata": {},
   "outputs": [],
   "source": [
    "import sys\n",
    "sys.path.append('../algorithms/py')"
   ]
  },
  {
   "cell_type": "code",
   "execution_count": 2,
   "metadata": {},
   "outputs": [],
   "source": [
    "import pandas as pd\n",
    "import numpy as np\n",
    "import matplotlib.pyplot as plt\n",
    "import seaborn as sns"
   ]
  },
  {
   "cell_type": "code",
   "execution_count": 3,
   "metadata": {},
   "outputs": [],
   "source": [
    "from sklearn.preprocessing import StandardScaler\n",
    "from sklearn.cross_decomposition import PLSRegression\n",
    "from sklearn.metrics import roc_curve, precision_recall_curve, auc, f1_score, confusion_matrix\n",
    "from sklearn.pipeline import Pipeline"
   ]
  },
  {
   "cell_type": "code",
   "execution_count": 6,
   "metadata": {},
   "outputs": [],
   "source": [
    "import rutils as rt\n",
    "import decomposition as dc"
   ]
  },
  {
   "cell_type": "markdown",
   "metadata": {},
   "source": [
    "# Data Loading"
   ]
  },
  {
   "cell_type": "code",
   "execution_count": 5,
   "metadata": {},
   "outputs": [
    {
     "name": "stdout",
     "output_type": "stream",
     "text": [
      "True\n",
      "gene_names.size=101\n"
     ]
    },
    {
     "data": {
      "text/plain": [
       "array([33, 14])"
      ]
     },
     "execution_count": 5,
     "metadata": {},
     "output_type": "execute_result"
    }
   ],
   "source": [
    "edata_df = pd.read_csv('../mutual-data/merged_edata.tsv', sep='\\t', index_col=0)\n",
    "mdata_df = pd.read_csv('../mutual-data/merged_mdata.tsv', sep='\\t', index_col=0)\n",
    "print( np.all(edata_df.columns == mdata_df.index) )\n",
    "\n",
    "with open('../wgcna/common_genes.txt') as f:\n",
    "\tfilter_genes = f.readlines()\n",
    "\n",
    "gene_names = np.array([l for line in filter_genes if (l:=line.strip()) != ''])\n",
    "print(f'{gene_names.size=}')\n",
    "\n",
    "edata_df = edata_df.loc[gene_names,]\n",
    "X = edata_df.T.to_numpy()\n",
    "y = np.int_(mdata_df.condition == 'SC')\n",
    "np.bincount(y)"
   ]
  },
  {
   "cell_type": "markdown",
   "metadata": {},
   "source": [
    "# Find out best n component"
   ]
  },
  {
   "cell_type": "code",
   "execution_count": 6,
   "metadata": {},
   "outputs": [
    {
     "name": "stdout",
     "output_type": "stream",
     "text": [
      "Iteration - 0"
     ]
    },
    {
     "name": "stdout",
     "output_type": "stream",
     "text": [
      "Iteration - 999\n",
      "[0.60720095 0.5965903  0.62456081]\n",
      "[0.61538462 0.6        0.66666667]\n"
     ]
    },
    {
     "data": {
      "text/plain": [
       "3"
      ]
     },
     "execution_count": 6,
     "metadata": {},
     "output_type": "execute_result"
    }
   ],
   "source": [
    "B = 1000\n",
    "n_components_range = range(1, 4)\n",
    "f1_scores = np.zeros((B, len(n_components_range)))\n",
    "rnd = rt.set_seed(27624920)\n",
    "\n",
    "for i in range(B):\n",
    "    boot_x, oob_x, boot_y, oob_y = rt.bootstrap_resample(X, y, rnd_engine=rnd)\n",
    "    # idx = np.setdiff1d(range(X.shape[0]), [i])\n",
    "    # boot_x, boot_y = X[idx, :], y[idx]\n",
    "    \n",
    "    for j, ncomp in enumerate(n_components_range):\n",
    "        model = dc.PLSClassifier(n_components=ncomp, std=True, vip=False)\n",
    "        model.fit(boot_x, boot_y)\n",
    "        y_pred = model.predict(oob_x)\n",
    "        # pred_class = (pred > 0.5).astype(int)\n",
    "        f1 = f1_score(oob_y, y_pred)\n",
    "        f1_scores[i, j] = f1\n",
    "    rt.iterLog(i)\n",
    "\n",
    "print()\n",
    "optimal_ncomp = n_components_range[np.argmax(np.mean(f1_scores, axis=0))]\n",
    "print(np.mean(f1_scores, axis=0))\n",
    "print(np.median(f1_scores, axis=0))\n",
    "optimal_ncomp"
   ]
  },
  {
   "cell_type": "code",
   "execution_count": 7,
   "metadata": {},
   "outputs": [
    {
     "name": "stdout",
     "output_type": "stream",
     "text": [
      "Iteration - 999"
     ]
    }
   ],
   "source": [
    "selected_genes = []\n",
    "B = 1000\n",
    "rnd = rt.set_seed(59791884)\n",
    "\n",
    "for i in range(B):\n",
    "    boot_x, _, boot_y, _ = rt.bootstrap_resample(X, y, oob=False, rnd_engine=rnd)\n",
    "    \n",
    "    model = dc.PLSClassifier(n_components=optimal_ncomp, std=True)\n",
    "    model.fit(boot_x, boot_y)\n",
    "    \n",
    "    vip = model.vip_\n",
    "    selected_genes.append(np.float_(vip > 1))\n",
    "    rt.iterLog(i)\n",
    "\n",
    "selected_genes = np.array(selected_genes)\n",
    "selection_freq = np.mean(selected_genes, axis=0)"
   ]
  },
  {
   "cell_type": "code",
   "execution_count": 8,
   "metadata": {},
   "outputs": [
    {
     "name": "stdout",
     "output_type": "stream",
     "text": [
      "0.994\n"
     ]
    },
    {
     "data": {
      "text/plain": [
       "array([0.994, 0.313, 0.223, 0.515, 0.716, 0.763, 0.454, 0.289, 0.296,\n",
       "       0.209, 0.283, 0.267, 0.626, 0.606, 0.664, 0.305, 0.594, 0.498,\n",
       "       0.3  , 0.167, 0.599, 0.197, 0.519, 0.788, 0.699, 0.116, 0.227,\n",
       "       0.224, 0.201, 0.334, 0.209, 0.902, 0.531, 0.395, 0.214, 0.125,\n",
       "       0.274, 0.59 , 0.642, 0.149, 0.463, 0.679, 0.278, 0.182, 0.247,\n",
       "       0.505, 0.35 , 0.27 , 0.661, 0.605, 0.703, 0.299, 0.592, 0.39 ,\n",
       "       0.422, 0.228, 0.283, 0.752, 0.252, 0.256, 0.347, 0.393, 0.675,\n",
       "       0.261, 0.391, 0.145, 0.307, 0.327, 0.294, 0.198, 0.28 , 0.265,\n",
       "       0.179, 0.833, 0.338, 0.21 , 0.226, 0.704, 0.151, 0.283, 0.177,\n",
       "       0.224, 0.156, 0.366, 0.176, 0.369, 0.18 , 0.236, 0.353, 0.179,\n",
       "       0.459, 0.227, 0.199, 0.141, 0.269, 0.243, 0.457, 0.201, 0.304,\n",
       "       0.595, 0.331])"
      ]
     },
     "execution_count": 8,
     "metadata": {},
     "output_type": "execute_result"
    }
   ],
   "source": [
    "print(selection_freq.max())\n",
    "selection_freq"
   ]
  },
  {
   "cell_type": "code",
   "execution_count": 11,
   "metadata": {},
   "outputs": [
    {
     "name": "stdout",
     "output_type": "stream",
     "text": [
      "Iteration - 0.8300000000000003"
     ]
    }
   ],
   "source": [
    "score_array = []\n",
    "thrshld = []\n",
    "\n",
    "for i in np.arange(0.5, 1, 0.01):\n",
    "\n",
    "    rpls_model = dc.PLSClassifier(n_components=optimal_ncomp, threshold=0.5, std=False)\n",
    "\n",
    "    biomarker_genes = np.where(selection_freq >= i)[0]\n",
    "    if len(biomarker_genes) < optimal_ncomp: break\n",
    "    scores = rt.evaluateBootstrap(\n",
    "        X, y, rpls_model, feature_indices=biomarker_genes, \n",
    "        seed=96860418, n_boot=400, metric=rt.pr_auc, use_proba=True\n",
    "    )\n",
    "\n",
    "    score_array.append(scores)\n",
    "    thrshld.append(i)\n",
    "    rt.iterLog(i)\n",
    "\n",
    "score_array = np.array(score_array)"
   ]
  },
  {
   "cell_type": "code",
   "execution_count": 12,
   "metadata": {},
   "outputs": [
    {
     "data": {
      "image/png": "[encoded data removed]",
      "text/plain": [
       "<Figure size 864x288 with 1 Axes>"
      ]
     },
     "metadata": {
      "needs_background": "light"
     },
     "output_type": "display_data"
    }
   ],
   "source": [
    "rt.errorPlot(score_array, axis=1, figsize=(12, 4), vline=62)"
   ]
  },
  {
   "cell_type": "code",
   "execution_count": 18,
   "metadata": {},
   "outputs": [
    {
     "name": "stdout",
     "output_type": "stream",
     "text": [
      "0.8300000000000003\n"
     ]
    }
   ],
   "source": [
    "selection_freq_thrs = thrshld[::-1][np.argmax(score_array.mean(1)[::-1])]\n",
    "print( selection_freq_thrs )"
   ]
  },
  {
   "cell_type": "code",
   "execution_count": 19,
   "metadata": {},
   "outputs": [
    {
     "name": "stdout",
     "output_type": "stream",
     "text": [
      "3\n",
      "ALDH3A1\n",
      "HRAS\n",
      "TXNRD1\n"
     ]
    }
   ],
   "source": [
    "t_idx = np.where(selection_freq >= selection_freq_thrs)[0]\n",
    "print(len(t_idx))\n",
    "rt.writeln(sorted(gene_names[t_idx]))"
   ]
  },
  {
   "cell_type": "markdown",
   "metadata": {},
   "source": [
    "# EVALUATIONS"
   ]
  },
  {
   "cell_type": "code",
   "execution_count": 20,
   "metadata": {},
   "outputs": [
    {
     "data": {
      "text/plain": [
       "(0.9018547518644766, 0.8315716574275398)"
      ]
     },
     "execution_count": 20,
     "metadata": {},
     "output_type": "execute_result"
    }
   ],
   "source": [
    "rpls_model = dc.PLSClassifier(n_components=3, threshold=0.5, std=False)\n",
    "boot, oob = rt.evaluateBootstrap(\n",
    "    X, y, rpls_model, selection_freq >= selection_freq_thrs, n_boot=1000, metric=f1_score, use_proba=False, boot_score=True,\n",
    "    seed=843131\n",
    ")\n",
    "boot.mean(), oob.mean()"
   ]
  },
  {
   "cell_type": "code",
   "execution_count": 21,
   "metadata": {},
   "outputs": [
    {
     "name": "stdout",
     "output_type": "stream",
     "text": [
      "0.9222840516457533\n"
     ]
    },
    {
     "data": {
      "text/plain": [
       "(array([0.92307692, 0.92307692, 0.92307692, 0.92307692, 0.92307692,\n",
       "        0.88888889, 0.92307692, 0.92307692, 0.92307692, 0.92307692,\n",
       "        0.92307692, 0.92307692, 0.92307692, 0.92307692, 0.92307692,\n",
       "        0.92307692, 0.92307692, 0.92307692, 0.92307692, 0.92307692,\n",
       "        0.92307692, 0.91666667, 0.91666667, 0.96      , 0.91666667,\n",
       "        0.91666667, 0.91666667, 0.91666667, 0.92307692, 0.92307692,\n",
       "        0.96      , 0.91666667, 0.91666667, 0.92307692, 0.92307692,\n",
       "        0.92307692, 0.92307692, 0.92307692, 0.92307692, 0.92307692,\n",
       "        0.91666667, 0.92307692, 0.92307692, 0.92307692, 0.91666667,\n",
       "        0.91666667, 0.91666667]),\n",
       " 0.8888888888888888)"
      ]
     },
     "execution_count": 21,
     "metadata": {},
     "output_type": "execute_result"
    }
   ],
   "source": [
    "train_score, loo_score = rt.evaluateLOO(\n",
    "    X, y, rpls_model, selection_freq >= selection_freq_thrs, metric=f1_score, use_proba=False, verbose=0, train_score=True\n",
    ")\n",
    "print(train_score.mean())\n",
    "train_score, loo_score"
   ]
  },
  {
   "cell_type": "markdown",
   "metadata": {},
   "source": [
    "# ROC AUC"
   ]
  },
  {
   "cell_type": "code",
   "execution_count": 23,
   "metadata": {},
   "outputs": [
    {
     "data": {
      "text/plain": [
       "array([[33,  0],\n",
       "       [ 2, 12]])"
      ]
     },
     "execution_count": 23,
     "metadata": {},
     "output_type": "execute_result"
    }
   ],
   "source": [
    "rpls_model = dc.PLSClassifier(n_components=3, threshold=0.5, std=True)\n",
    "rpls_model.fit(X[:, selection_freq >= selection_freq_thrs], y)\n",
    "y_pred = rpls_model.predict(X[:, selection_freq >= selection_freq_thrs])\n",
    "confusion_matrix(y, y_pred)"
   ]
  },
  {
   "cell_type": "code",
   "execution_count": 24,
   "metadata": {},
   "outputs": [],
   "source": [
    "y_scores = rpls_model.predict_proba(X[:, selection_freq >= selection_freq_thrs])[:, 1]\n",
    "fpr, tpr, _ = roc_curve(y, y_scores)\n",
    "roc_auc = auc(fpr, tpr)\n",
    "precision, recall, _ = precision_recall_curve(y, y_scores)\n",
    "pr_auc = auc(recall, precision)"
   ]
  },
  {
   "cell_type": "code",
   "execution_count": 25,
   "metadata": {},
   "outputs": [
    {
     "data": {
      "image/png": "[encoded data removed]",
      "text/plain": [
       "<Figure size 432x432 with 1 Axes>"
      ]
     },
     "metadata": {
      "needs_background": "light"
     },
     "output_type": "display_data"
    }
   ],
   "source": [
    "# Plot ROC curve\n",
    "plt.figure(figsize=(6, 6))\n",
    "plt.plot(fpr, tpr, color='blue', label=f'ROC Curve (AUC = {roc_auc:.2f})')\n",
    "plt.plot([0, 1], [0, 1], linestyle='--', color='gray', label=\"Random Guess\")\n",
    "\n",
    "plt.xlabel(\"False Positive Rate (FPR)\")\n",
    "plt.ylabel(\"True Positive Rate (TPR)\")\n",
    "plt.title(\"ROC Curve\")\n",
    "plt.legend()\n",
    "plt.show()"
   ]
  },
  {
   "cell_type": "code",
   "execution_count": 26,
   "metadata": {},
   "outputs": [
    {
     "data": {
      "image/png": "[encoded data removed]",
      "text/plain": [
       "<Figure size 432x432 with 1 Axes>"
      ]
     },
     "metadata": {
      "needs_background": "light"
     },
     "output_type": "display_data"
    }
   ],
   "source": [
    "# Plot PR curve\n",
    "plt.figure(figsize=(6, 6))\n",
    "plt.plot(recall, precision, color='red', label=f'PR Curve (AUC = {pr_auc:.2f})')\n",
    "plt.xlabel(\"Recall\")\n",
    "plt.ylabel(\"Precision\")\n",
    "plt.title(\"Precision-Recall Curve\")\n",
    "plt.legend()\n",
    "plt.show()"
   ]
  },
  {
   "cell_type": "code",
   "execution_count": null,
   "metadata": {},
   "outputs": [],
   "source": []
  }
 ],
 "metadata": {
  "kernelspec": {
   "display_name": "Python 3",
   "language": "python",
   "name": "python3"
  },
  "language_info": {
   "codemirror_mode": {
    "name": "ipython",
    "version": 3
   },
   "file_extension": ".py",
   "mimetype": "text/x-python",
   "name": "python",
   "nbconvert_exporter": "python",
   "pygments_lexer": "ipython3",
   "version": "3.12.5"
  }
 },
 "nbformat": 4,
 "nbformat_minor": 2
}
