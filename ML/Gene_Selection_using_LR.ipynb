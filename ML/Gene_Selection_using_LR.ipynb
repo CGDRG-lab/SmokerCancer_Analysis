{
  "cells": [
    {
      "cell_type": "code",
      "execution_count": 3,
      "metadata": {},
      "outputs": [],
      "source": [
        "import IPython.display as display\n",
        "import sys\n",
        "sys.path.append('../algorithms/py')"
      ]
    },
    {
      "cell_type": "code",
      "execution_count": 4,
      "metadata": {
        "id": "u4PED9Qb60Zm"
      },
      "outputs": [],
      "source": [
        "import pandas as pd\n",
        "import numpy as np\n",
        "import matplotlib.pyplot as plt"
      ]
    },
    {
      "cell_type": "code",
      "execution_count": 5,
      "metadata": {
        "id": "AF93IbpN6mwE"
      },
      "outputs": [],
      "source": [
        "import optuna\n",
        "from sklearn.pipeline import Pipeline\n",
        "from sklearn.model_selection import cross_val_score\n",
        "from sklearn.linear_model import LogisticRegression\n",
        "from sklearn.preprocessing import StandardScaler\n",
        "from sklearn.metrics import f1_score, roc_auc_score"
      ]
    },
    {
      "cell_type": "code",
      "execution_count": 6,
      "metadata": {
        "id": "flpCgVfD7XZs"
      },
      "outputs": [],
      "source": [
        "import rutils as rt"
      ]
    },
    {
      "cell_type": "markdown",
      "metadata": {
        "id": "Po-nYpZI7l6P"
      },
      "source": [
        "# Data Loading"
      ]
    },
    {
      "cell_type": "code",
      "execution_count": 7,
      "metadata": {},
      "outputs": [
        {
          "name": "stdout",
          "output_type": "stream",
          "text": [
            "True\n",
            "gene_names.size=101\n"
          ]
        },
        {
          "data": {
            "text/plain": [
              "array([33, 14])"
            ]
          },
          "execution_count": 7,
          "metadata": {},
          "output_type": "execute_result"
        }
      ],
      "source": [
        "edata_df = pd.read_csv('../mutual-data/merged_edata.tsv', sep='\\t', index_col=0)\n",
        "mdata_df = pd.read_csv('../mutual-data/merged_mdata.tsv', sep='\\t', index_col=0)\n",
        "print( np.all(edata_df.columns == mdata_df.index) )\n",
        "\n",
        "with open('../wgcna/common_genes.txt') as f:\n",
        "\tfilter_genes = f.readlines()\n",
        "\n",
        "gene_names = np.array([l for line in filter_genes if (l:=line.strip()) != ''])\n",
        "print(f'{gene_names.size=}')\n",
        "\n",
        "edata_df = edata_df.loc[gene_names,]\n",
        "X = edata_df.T.to_numpy()\n",
        "y = np.int_(mdata_df.condition == 'SC')\n",
        "np.bincount(y)"
      ]
    },
    {
      "cell_type": "markdown",
      "metadata": {
        "id": "KqJsJdli79GY"
      },
      "source": [
        "# START FROM HERE"
      ]
    },
    {
      "cell_type": "code",
      "execution_count": 8,
      "metadata": {
        "id": "uMlaUerw8H96"
      },
      "outputs": [],
      "source": [
        "def find_out(X, y, model, n_boot=200, seed=None):\n",
        "  rnd = np.random.default_rng(seed)\n",
        "  coef_arr = []\n",
        "  score_arr = []\n",
        "  for i in range(n_boot):\n",
        "      X_boot, X_oob, y_boot, y_oob = rt.bootstrap_resample(X, y, rnd_engine=rnd)\n",
        "      scaler = StandardScaler()\n",
        "      X_boot_scaled = scaler.fit_transform(X_boot)\n",
        "      X_oob_scaled = scaler.transform(X_oob)\n",
        "\n",
        "      model.fit(X_boot_scaled, y_boot)\n",
        "      coef_arr.append(model.coef_[0])\n",
        "      # rt.iterLog(i)\n",
        "\n",
        "      # y_oob_pred_proba = model.predict_proba(X_oob_std)[:, 1]\n",
        "      score_arr.append(\n",
        "          rt.pr_auc(y_oob, model.predict_proba(X_oob_scaled)[:, 1])\n",
        "      )\n",
        "\n",
        "  coef_arr = np.array(coef_arr)\n",
        "  score_arr = np.array(score_arr)\n",
        "  return coef_arr, score_arr"
      ]
    },
    {
      "cell_type": "markdown",
      "metadata": {
        "id": "Sjp3VvALARAi"
      },
      "source": [
        "## define objective function"
      ]
    },
    {
      "cell_type": "code",
      "execution_count": 9,
      "metadata": {
        "collapsed": true,
        "id": "cZ3i9ovmARdE"
      },
      "outputs": [],
      "source": [
        "def objective(trial):\n",
        "  C_val = trial.suggest_float('C', 0.01, 100, log=True)\n",
        "  lr_val = trial.suggest_float('lr_ratio', 0.1, 0.9)\n",
        "  threshold = trial.suggest_float('thrs', 0.2, 0.8)\n",
        "\n",
        "  lr_model = LogisticRegression(\n",
        "        penalty='elasticnet', solver='saga',\n",
        "        class_weight='balanced',\n",
        "        max_iter=10000, random_state=791176,\n",
        "        C=C_val, l1_ratio=lr_val\n",
        "    )\n",
        "\n",
        "  coef_arr, score_arr = find_out(X, y, lr_model, n_boot=400, seed=209741)\n",
        "\n",
        "\n",
        "  selected_genes = np.mean(np.abs(coef_arr) > 1e-6, axis=0) >= threshold\n",
        "\n",
        "  if np.sum(selected_genes) == 0:\n",
        "        return 0\n",
        "\n",
        "  oob_score = rt.evaluateBootstrap(\n",
        "        X, y, lr_model, selected_genes, n_boot=400,\n",
        "        use_proba=True, metric=rt.pr_auc, seed=522863, boot_score=False\n",
        "    )\n",
        "\n",
        "  return oob_score.mean()"
      ]
    },
    {
      "cell_type": "code",
      "execution_count": 10,
      "metadata": {
        "colab": {
          "base_uri": "https://localhost:8080/"
        },
        "id": "63hwbVfgDOLP",
        "outputId": "80b14cd8-0664-4305-d9aa-f322dac9e44d"
      },
      "outputs": [
        {
          "name": "stderr",
          "output_type": "stream",
          "text": [
            "[I 2025-07-26 20:49:58,977] A new study created in memory with name: LogisticRegression\n"
          ]
        }
      ],
      "source": [
        "study = optuna.create_study(\n",
        "    study_name = 'LogisticRegression',\n",
        "    direction='maximize',\n",
        "    sampler=optuna.samplers.TPESampler(seed=372940)\n",
        ")"
      ]
    },
    {
      "cell_type": "code",
      "execution_count": 11,
      "metadata": {
        "colab": {
          "base_uri": "https://localhost:8080/"
        },
        "id": "N07iKizBD5YR",
        "outputId": "aa3afc95-87df-4c5d-d2b9-57cf237e0ebc"
      },
      "outputs": [
        {
          "name": "stderr",
          "output_type": "stream",
          "text": [
            "[I 2025-07-26 20:50:47,206] Trial 0 finished with value: 0.8348502620249605 and parameters: {'C': 7.771705089424058, 'lr_ratio': 0.7783057814789166, 'thrs': 0.6320751177245301}. Best is trial 0 with value: 0.8348502620249605.\n",
            "[I 2025-07-26 20:51:47,677] Trial 1 finished with value: 0.7297086898726078 and parameters: {'C': 24.979325234220823, 'lr_ratio': 0.6697665566043789, 'thrs': 0.2183253221856687}. Best is trial 0 with value: 0.8348502620249605.\n",
            "[I 2025-07-26 20:52:43,544] Trial 2 finished with value: 0.7304627233904849 and parameters: {'C': 55.451892812748916, 'lr_ratio': 0.6820178883035428, 'thrs': 0.5930718611494435}. Best is trial 0 with value: 0.8348502620249605.\n",
            "[I 2025-07-26 20:53:22,307] Trial 3 finished with value: 0.8407754315229163 and parameters: {'C': 6.764659585661619, 'lr_ratio': 0.7606126371809446, 'thrs': 0.77525285893477}. Best is trial 3 with value: 0.8407754315229163.\n",
            "[I 2025-07-26 20:54:09,516] Trial 4 finished with value: 0.846349723564403 and parameters: {'C': 12.690178374459716, 'lr_ratio': 0.8730821063499813, 'thrs': 0.7387534481436848}. Best is trial 4 with value: 0.846349723564403.\n",
            "[I 2025-07-26 20:54:22,533] Trial 5 finished with value: 0.8190914685122327 and parameters: {'C': 0.6713022069425578, 'lr_ratio': 0.6240124935983706, 'thrs': 0.3485866708139256}. Best is trial 4 with value: 0.846349723564403.\n",
            "[I 2025-07-26 20:55:09,403] Trial 6 finished with value: 0.7306790005145837 and parameters: {'C': 9.344553335909612, 'lr_ratio': 0.2749629599934199, 'thrs': 0.3632190935757623}. Best is trial 4 with value: 0.846349723564403.\n",
            "[I 2025-07-26 20:55:11,475] Trial 7 finished with value: 0.0 and parameters: {'C': 0.053310994393632925, 'lr_ratio': 0.6529667638735001, 'thrs': 0.6324027146802464}. Best is trial 4 with value: 0.846349723564403.\n",
            "[I 2025-07-26 20:55:38,447] Trial 8 finished with value: 0.8650881478803925 and parameters: {'C': 2.429723318493079, 'lr_ratio': 0.7262436141477343, 'thrs': 0.690107352301449}. Best is trial 8 with value: 0.8650881478803925.\n",
            "[I 2025-07-26 20:55:52,342] Trial 9 finished with value: 0.8528986111322826 and parameters: {'C': 1.1953529902789126, 'lr_ratio': 0.2552400956005476, 'thrs': 0.7775693025784076}. Best is trial 8 with value: 0.8650881478803925.\n",
            "[I 2025-07-26 20:55:53,632] Trial 10 finished with value: 0.0 and parameters: {'C': 0.030689170266619353, 'lr_ratio': 0.455785370797253, 'thrs': 0.492992337789631}. Best is trial 8 with value: 0.8650881478803925.\n",
            "[I 2025-07-26 20:56:04,668] Trial 11 finished with value: 0.8383872425350916 and parameters: {'C': 0.6747731666264362, 'lr_ratio': 0.10285134467002696, 'thrs': 0.787455159747177}. Best is trial 8 with value: 0.8650881478803925.\n",
            "[I 2025-07-26 20:56:23,152] Trial 12 finished with value: 0.8418201737731167 and parameters: {'C': 1.5929941059624002, 'lr_ratio': 0.43311190546586925, 'thrs': 0.6854534437147508}. Best is trial 8 with value: 0.8650881478803925.\n",
            "[I 2025-07-26 20:56:27,214] Trial 13 finished with value: 0.829562795284645 and parameters: {'C': 0.1320638266152211, 'lr_ratio': 0.2626671510112414, 'thrs': 0.5427026872217003}. Best is trial 8 with value: 0.8650881478803925.\n",
            "[I 2025-07-26 20:56:46,999] Trial 14 finished with value: 0.8683721256289061 and parameters: {'C': 2.281480983816358, 'lr_ratio': 0.3220135551894797, 'thrs': 0.7015263917306185}. Best is trial 14 with value: 0.8683721256289061.\n",
            "[I 2025-07-26 20:56:53,105] Trial 15 finished with value: 0.8138104617617529 and parameters: {'C': 0.24008770163651139, 'lr_ratio': 0.5353139972130982, 'thrs': 0.4595417674564086}. Best is trial 14 with value: 0.8683721256289061.\n",
            "[I 2025-07-26 20:57:14,169] Trial 16 finished with value: 0.8663514822929642 and parameters: {'C': 2.4587233990871904, 'lr_ratio': 0.38055552668137443, 'thrs': 0.7095035111751652}. Best is trial 14 with value: 0.8683721256289061.\n",
            "[I 2025-07-26 20:57:39,135] Trial 17 finished with value: 0.8693206007527357 and parameters: {'C': 3.4845581385864457, 'lr_ratio': 0.3745450682796774, 'thrs': 0.6962665194552323}. Best is trial 17 with value: 0.8693206007527357.\n",
            "[I 2025-07-26 20:58:29,302] Trial 18 finished with value: 0.7299229928030182 and parameters: {'C': 97.42967807232208, 'lr_ratio': 0.1295106252871635, 'thrs': 0.556171667122155}. Best is trial 17 with value: 0.8693206007527357.\n",
            "[I 2025-07-26 20:58:35,219] Trial 19 finished with value: 0.8093266652015223 and parameters: {'C': 0.2687212223866784, 'lr_ratio': 0.3467519749674408, 'thrs': 0.42417312509682237}. Best is trial 17 with value: 0.8693206007527357.\n",
            "[I 2025-07-26 20:58:35,702] Trial 20 finished with value: 0.0 and parameters: {'C': 0.013226349832563225, 'lr_ratio': 0.5464799611282133, 'thrs': 0.6251672562430551}. Best is trial 17 with value: 0.8693206007527357.\n",
            "[I 2025-07-26 20:59:00,224] Trial 21 finished with value: 0.8717098098380486 and parameters: {'C': 3.5789484838071695, 'lr_ratio': 0.36067566811467605, 'thrs': 0.6881949865208519}. Best is trial 21 with value: 0.8717098098380486.\n",
            "[I 2025-07-26 20:59:27,015] Trial 22 finished with value: 0.8005315662802814 and parameters: {'C': 3.4016439655993436, 'lr_ratio': 0.19877370458310767, 'thrs': 0.6868177495133516}. Best is trial 21 with value: 0.8717098098380486.\n",
            "[I 2025-07-26 21:00:11,278] Trial 23 finished with value: 0.7431036261055012 and parameters: {'C': 21.724950209847588, 'lr_ratio': 0.3495371753146725, 'thrs': 0.7366413835502097}. Best is trial 21 with value: 0.8717098098380486.\n",
            "[I 2025-07-26 21:00:36,210] Trial 24 finished with value: 0.8669156618997599 and parameters: {'C': 3.3604864993278554, 'lr_ratio': 0.4115752062860004, 'thrs': 0.6539355453824511}. Best is trial 21 with value: 0.8717098098380486.\n",
            "[I 2025-07-26 21:00:45,777] Trial 25 finished with value: 0.848997535022161 and parameters: {'C': 0.6049754222279523, 'lr_ratio': 0.3175002245771135, 'thrs': 0.5748119291884106}. Best is trial 21 with value: 0.8717098098380486.\n",
            "[I 2025-07-26 21:01:19,469] Trial 26 finished with value: 0.8371691232749874 and parameters: {'C': 4.735112539586883, 'lr_ratio': 0.4805917903408602, 'thrs': 0.7388055293017592}. Best is trial 21 with value: 0.8717098098380486.\n",
            "[I 2025-07-26 21:02:01,647] Trial 27 finished with value: 0.73199824180026 and parameters: {'C': 18.841820908541845, 'lr_ratio': 0.2017436191154358, 'thrs': 0.5974979197037124}. Best is trial 21 with value: 0.8717098098380486.\n",
            "[I 2025-07-26 21:02:17,366] Trial 28 finished with value: 0.8337672069891988 and parameters: {'C': 1.0939391227787616, 'lr_ratio': 0.5769759819320985, 'thrs': 0.5239557349735844}. Best is trial 21 with value: 0.8717098098380486.\n",
            "[I 2025-07-26 21:02:54,760] Trial 29 finished with value: 0.7462854486893327 and parameters: {'C': 5.981450261088986, 'lr_ratio': 0.17676954043172058, 'thrs': 0.653365190704378}. Best is trial 21 with value: 0.8717098098380486.\n",
            "[I 2025-07-26 21:03:13,194] Trial 30 finished with value: 0.8734607437591686 and parameters: {'C': 2.0236806743523212, 'lr_ratio': 0.29739121584237005, 'thrs': 0.7232458887452965}. Best is trial 30 with value: 0.8734607437591686.\n",
            "[I 2025-07-26 21:03:30,539] Trial 31 finished with value: 0.8709452810294362 and parameters: {'C': 1.872695848446084, 'lr_ratio': 0.2884001860152612, 'thrs': 0.7258212807855677}. Best is trial 30 with value: 0.8734607437591686.\n",
            "[I 2025-07-26 21:03:37,719] Trial 32 finished with value: 0.8691547283382053 and parameters: {'C': 0.4029479437491825, 'lr_ratio': 0.3946656879184612, 'thrs': 0.7455933901093247}. Best is trial 30 with value: 0.8734607437591686.\n",
            "[I 2025-07-26 21:04:26,556] Trial 33 finished with value: 0.7308447806656093 and parameters: {'C': 40.974303382666484, 'lr_ratio': 0.28658187635470095, 'thrs': 0.2504461592073125}. Best is trial 30 with value: 0.8734607437591686.\n",
            "[I 2025-07-26 21:04:56,637] Trial 34 finished with value: 0.81709261281598 and parameters: {'C': 9.520426517538137, 'lr_ratio': 0.23490718669866475, 'thrs': 0.7983473035231475}. Best is trial 30 with value: 0.8734607437591686.\n",
            "[I 2025-07-26 21:05:24,288] Trial 35 finished with value: 0.8340431001319396 and parameters: {'C': 4.5906571321968235, 'lr_ratio': 0.3553398049108935, 'thrs': 0.6567482065004238}. Best is trial 30 with value: 0.8734607437591686.\n",
            "[I 2025-07-26 21:05:43,476] Trial 36 finished with value: 0.838126994034902 and parameters: {'C': 1.7996012437795164, 'lr_ratio': 0.49931008126522086, 'thrs': 0.6068941206493533}. Best is trial 30 with value: 0.8734607437591686.\n",
            "[I 2025-07-26 21:06:21,102] Trial 37 finished with value: 0.7822442636139486 and parameters: {'C': 12.092368461908341, 'lr_ratio': 0.30523654899327307, 'thrs': 0.7293570676604505}. Best is trial 30 with value: 0.8734607437591686.\n",
            "[I 2025-07-26 21:06:32,338] Trial 38 finished with value: 0.8750076517453302 and parameters: {'C': 0.8229668596821774, 'lr_ratio': 0.4358588230778656, 'thrs': 0.7588479445295632}. Best is trial 38 with value: 0.8750076517453302.\n",
            "[I 2025-07-26 21:06:47,718] Trial 39 finished with value: 0.7938645062960353 and parameters: {'C': 0.7008912380125166, 'lr_ratio': 0.8447264995038284, 'thrs': 0.7631951621618889}. Best is trial 38 with value: 0.8750076517453302.\n",
            "[I 2025-07-26 21:07:01,808] Trial 40 finished with value: 0.8351877884363883 and parameters: {'C': 1.138906299127867, 'lr_ratio': 0.45131035427647204, 'thrs': 0.6705075715499687}. Best is trial 38 with value: 0.8750076517453302.\n",
            "[I 2025-07-26 21:07:31,744] Trial 41 finished with value: 0.85950645139296 and parameters: {'C': 6.536189447449345, 'lr_ratio': 0.3939932755239269, 'thrs': 0.7072380735629383}. Best is trial 38 with value: 0.8750076517453302.\n",
            "[I 2025-07-26 21:07:47,593] Trial 42 finished with value: 0.8454686289620333 and parameters: {'C': 1.5504337866324114, 'lr_ratio': 0.3643313382937637, 'thrs': 0.718405038112625}. Best is trial 38 with value: 0.8750076517453302.\n",
            "[I 2025-07-26 21:08:12,079] Trial 43 finished with value: 0.8445621052631234 and parameters: {'C': 3.692775826477016, 'lr_ratio': 0.4173620125545159, 'thrs': 0.7774287686233686}. Best is trial 38 with value: 0.8750076517453302.\n",
            "[I 2025-07-26 21:08:19,655] Trial 44 finished with value: 0.8369196301845713 and parameters: {'C': 0.44752430197835374, 'lr_ratio': 0.24660181019363944, 'thrs': 0.7548446634328686}. Best is trial 38 with value: 0.8750076517453302.\n",
            "[I 2025-07-26 21:08:31,889] Trial 45 finished with value: 0.8417155850657839 and parameters: {'C': 0.8620427051755261, 'lr_ratio': 0.47225943604428244, 'thrs': 0.6306968754461674}. Best is trial 38 with value: 0.8750076517453302.\n",
            "[I 2025-07-26 21:08:35,216] Trial 46 finished with value: 0.8425465956680156 and parameters: {'C': 0.10561418041118396, 'lr_ratio': 0.31482099555768006, 'thrs': 0.7671403266046556}. Best is trial 38 with value: 0.8750076517453302.\n",
            "[I 2025-07-26 21:08:57,463] Trial 47 finished with value: 0.8432394342790076 and parameters: {'C': 2.3779156380671944, 'lr_ratio': 0.5228901412497882, 'thrs': 0.6788521301408017}. Best is trial 38 with value: 0.8750076517453302.\n",
            "[I 2025-07-26 21:09:13,758] Trial 48 finished with value: 0.8687906217267124 and parameters: {'C': 1.5560232932101439, 'lr_ratio': 0.44133659756421184, 'thrs': 0.7954726353681855}. Best is trial 38 with value: 0.8750076517453302.\n",
            "[I 2025-07-26 21:09:51,935] Trial 49 finished with value: 0.8629974258031166 and parameters: {'C': 15.622082365326298, 'lr_ratio': 0.5812739671172373, 'thrs': 0.7172637396202671}. Best is trial 38 with value: 0.8750076517453302.\n",
            "[I 2025-07-26 21:10:38,356] Trial 50 finished with value: 0.7297327417022649 and parameters: {'C': 8.013099090440829, 'lr_ratio': 0.2810467748588095, 'thrs': 0.2693541157305161}. Best is trial 38 with value: 0.8750076517453302.\n",
            "[I 2025-07-26 21:10:46,386] Trial 51 finished with value: 0.8802673623848668 and parameters: {'C': 0.4935835883659897, 'lr_ratio': 0.3941342547707365, 'thrs': 0.7587094413433819}. Best is trial 51 with value: 0.8802673623848668.\n",
            "[I 2025-07-26 21:10:50,963] Trial 52 finished with value: 0.857258604125724 and parameters: {'C': 0.1982111260291993, 'lr_ratio': 0.3397261256650409, 'thrs': 0.7536882585352553}. Best is trial 51 with value: 0.8802673623848668.\n",
            "[I 2025-07-26 21:10:58,089] Trial 53 finished with value: 0.8506286804238382 and parameters: {'C': 0.40353249264961033, 'lr_ratio': 0.39618865272649945, 'thrs': 0.68799328923137}. Best is trial 51 with value: 0.8802673623848668.\n",
            "[I 2025-07-26 21:11:18,941] Trial 54 finished with value: 0.8484434609314897 and parameters: {'C': 2.5965954873173556, 'lr_ratio': 0.37571112737723095, 'thrs': 0.7181723285072745}. Best is trial 51 with value: 0.8802673623848668.\n",
            "[I 2025-07-26 21:11:30,568] Trial 55 finished with value: 0.855051363769422 and parameters: {'C': 0.9687738734231507, 'lr_ratio': 0.2073118328224487, 'thrs': 0.7736899822944853}. Best is trial 51 with value: 0.8802673623848668.\n",
            "[I 2025-07-26 21:11:51,072] Trial 56 finished with value: 0.7989062172548497 and parameters: {'C': 1.748393254842168, 'lr_ratio': 0.4257854169514438, 'thrs': 0.4105333452301437}. Best is trial 51 with value: 0.8802673623848668.\n",
            "[I 2025-07-26 21:12:00,081] Trial 57 finished with value: 0.8468895968236545 and parameters: {'C': 0.6032395963361352, 'lr_ratio': 0.29532577147198624, 'thrs': 0.646260290468872}. Best is trial 51 with value: 0.8802673623848668.\n",
            "[I 2025-07-26 21:12:06,036] Trial 58 finished with value: 0.8480069340304811 and parameters: {'C': 0.28533180757515486, 'lr_ratio': 0.15608557264974424, 'thrs': 0.6982699876480009}. Best is trial 51 with value: 0.8802673623848668.\n",
            "[I 2025-07-26 21:12:09,919] Trial 59 finished with value: 0.8533039750617805 and parameters: {'C': 0.14492705827815056, 'lr_ratio': 0.3311238124304789, 'thrs': 0.6152606880894735}. Best is trial 51 with value: 0.8802673623848668.\n",
            "[I 2025-07-26 21:12:42,933] Trial 60 finished with value: 0.7736289479858084 and parameters: {'C': 4.534241421839382, 'lr_ratio': 0.26191661856754167, 'thrs': 0.5818023862544588}. Best is trial 51 with value: 0.8802673623848668.\n",
            "[I 2025-07-26 21:12:50,169] Trial 61 finished with value: 0.8691645897069953 and parameters: {'C': 0.41208791510583304, 'lr_ratio': 0.3860779066245824, 'thrs': 0.7458248253001393}. Best is trial 51 with value: 0.8802673623848668.\n",
            "[I 2025-07-26 21:12:53,353] Trial 62 finished with value: 0.8371533910459376 and parameters: {'C': 0.0811441568262734, 'lr_ratio': 0.3659030010820091, 'thrs': 0.7384866022778311}. Best is trial 51 with value: 0.8802673623848668.\n",
            "[I 2025-07-26 21:13:02,213] Trial 63 finished with value: 0.8459709679157581 and parameters: {'C': 0.4912746965089122, 'lr_ratio': 0.4675183243483025, 'thrs': 0.6694505969679538}. Best is trial 51 with value: 0.8802673623848668.\n",
            "[I 2025-07-26 21:13:08,537] Trial 64 finished with value: 0.8681868235927286 and parameters: {'C': 0.3059210209069664, 'lr_ratio': 0.4165945806038678, 'thrs': 0.7857980106680449}. Best is trial 51 with value: 0.8802673623848668.\n",
            "[I 2025-07-26 21:13:22,522] Trial 65 finished with value: 0.8474692188864745 and parameters: {'C': 1.250646922452867, 'lr_ratio': 0.3309134551059558, 'thrs': 0.7338355228155847}. Best is trial 51 with value: 0.8802673623848668.\n",
            "[I 2025-07-26 21:13:32,922] Trial 66 finished with value: 0.8508545528485696 and parameters: {'C': 0.762141221085848, 'lr_ratio': 0.23068081086874997, 'thrs': 0.7070144559220783}. Best is trial 51 with value: 0.8802673623848668.\n",
            "[I 2025-07-26 21:13:56,424] Trial 67 finished with value: 0.8428137401135706 and parameters: {'C': 3.4642973272020026, 'lr_ratio': 0.38733060574395434, 'thrs': 0.7523445395706202}. Best is trial 51 with value: 0.8802673623848668.\n",
            "[I 2025-07-26 21:14:15,075] Trial 68 finished with value: 0.8680255524867314 and parameters: {'C': 2.114201982760179, 'lr_ratio': 0.299183884077997, 'thrs': 0.6928639506253103}. Best is trial 51 with value: 0.8802673623848668.\n",
            "[I 2025-07-26 21:14:20,528] Trial 69 finished with value: 0.7831165088759132 and parameters: {'C': 0.19719576268406735, 'lr_ratio': 0.4946785131596302, 'thrs': 0.7677218654759225}. Best is trial 51 with value: 0.8802673623848668.\n",
            "[I 2025-07-26 21:14:38,433] Trial 70 finished with value: 0.8280322019698119 and parameters: {'C': 1.3255197176180005, 'lr_ratio': 0.450267207295983, 'thrs': 0.4873732182830236}. Best is trial 51 with value: 0.8802673623848668.\n",
            "[I 2025-07-26 21:14:44,915] Trial 71 finished with value: 0.8724120379685837 and parameters: {'C': 0.329489035479734, 'lr_ratio': 0.40560901638101565, 'thrs': 0.7447650653274195}. Best is trial 51 with value: 0.8802673623848668.\n",
            "[I 2025-07-26 21:14:53,326] Trial 72 finished with value: 0.8691024773814899 and parameters: {'C': 0.5212534611383101, 'lr_ratio': 0.36261894919617743, 'thrs': 0.7290374924194066}. Best is trial 51 with value: 0.8802673623848668.\n",
            "[I 2025-07-26 21:15:15,966] Trial 73 finished with value: 0.8418435722201394 and parameters: {'C': 2.9484475308670826, 'lr_ratio': 0.40658290258809904, 'thrs': 0.7489962021773097}. Best is trial 51 with value: 0.8802673623848668.\n",
            "[I 2025-07-26 21:15:22,521] Trial 74 finished with value: 0.8678291212132626 and parameters: {'C': 0.3368410738206336, 'lr_ratio': 0.43133886595058396, 'thrs': 0.7848019373810856}. Best is trial 51 with value: 0.8802673623848668.\n",
            "[I 2025-07-26 21:15:33,529] Trial 75 finished with value: 0.8556512800106852 and parameters: {'C': 0.8209105657333255, 'lr_ratio': 0.2702802495163714, 'thrs': 0.6690829936117806}. Best is trial 51 with value: 0.8802673623848668.\n",
            "[I 2025-07-26 21:15:45,985] Trial 76 finished with value: 0.8487797017337343 and parameters: {'C': 1.0252693305838838, 'lr_ratio': 0.34578116968957195, 'thrs': 0.729509971242773}. Best is trial 51 with value: 0.8802673623848668.\n",
            "[I 2025-07-26 21:15:50,236] Trial 77 finished with value: 0.8678593808315637 and parameters: {'C': 0.16994500155100528, 'lr_ratio': 0.37836650886684037, 'thrs': 0.763571449721818}. Best is trial 51 with value: 0.8802673623848668.\n",
            "[I 2025-07-26 21:16:14,005] Trial 78 finished with value: 0.8190254651215563 and parameters: {'C': 1.918944360927275, 'lr_ratio': 0.7184701413346102, 'thrs': 0.6414657390337781}. Best is trial 51 with value: 0.8802673623848668.\n",
            "[I 2025-07-26 21:16:14,957] Trial 79 finished with value: 0.0 and parameters: {'C': 0.03175471913542793, 'lr_ratio': 0.5197473779131123, 'thrs': 0.7040965895138025}. Best is trial 51 with value: 0.8802673623848668.\n",
            "[I 2025-07-26 21:16:42,273] Trial 80 finished with value: 0.8588840531446036 and parameters: {'C': 5.400859353528327, 'lr_ratio': 0.31589254164679875, 'thrs': 0.7249080585020384}. Best is trial 51 with value: 0.8802673623848668.\n",
            "[I 2025-07-26 21:16:49,625] Trial 81 finished with value: 0.8677752765129892 and parameters: {'C': 0.4208639242975218, 'lr_ratio': 0.3987889339317035, 'thrs': 0.7992311852849249}. Best is trial 51 with value: 0.8802673623848668.\n",
            "[I 2025-07-26 21:16:54,728] Trial 82 finished with value: 0.859257009621858 and parameters: {'C': 0.23941556726364893, 'lr_ratio': 0.34072772692683395, 'thrs': 0.7459291151121069}. Best is trial 51 with value: 0.8802673623848668.\n",
            "[I 2025-07-26 21:17:03,728] Trial 83 finished with value: 0.8778906957174535 and parameters: {'C': 0.5520145209722546, 'lr_ratio': 0.44818827742277867, 'thrs': 0.7450542079334631}. Best is trial 51 with value: 0.8802673623848668.\n",
            "[I 2025-07-26 21:17:13,905] Trial 84 finished with value: 0.8632412519040864 and parameters: {'C': 0.6779127973666723, 'lr_ratio': 0.4638383420121811, 'thrs': 0.7756900497954484}. Best is trial 51 with value: 0.8802673623848668.\n",
            "[I 2025-07-26 21:17:21,051] Trial 85 finished with value: 0.8655011066104712 and parameters: {'C': 0.34078943943121603, 'lr_ratio': 0.4886063278736086, 'thrs': 0.686124758105632}. Best is trial 51 with value: 0.8802673623848668.\n",
            "[I 2025-07-26 21:17:33,642] Trial 86 finished with value: 0.8605483732384398 and parameters: {'C': 0.5890675817984051, 'lr_ratio': 0.5650184518593884, 'thrs': 0.71782640509373}. Best is trial 51 with value: 0.8802673623848668.\n",
            "[I 2025-07-26 21:17:58,849] Trial 87 finished with value: 0.8598689399400903 and parameters: {'C': 3.9785510099743777, 'lr_ratio': 0.3794265079102362, 'thrs': 0.7560294365562248}. Best is trial 51 with value: 0.8802673623848668.\n",
            "[I 2025-07-26 21:18:22,145] Trial 88 finished with value: 0.8632245688788757 and parameters: {'C': 2.787135080473482, 'lr_ratio': 0.44339680264711967, 'thrs': 0.6644495351755989}. Best is trial 51 with value: 0.8802673623848668.\n",
            "[I 2025-07-26 21:18:38,739] Trial 89 finished with value: 0.8433040181801491 and parameters: {'C': 1.4656698100328163, 'lr_ratio': 0.4171284158653249, 'thrs': 0.7100314662047795}. Best is trial 51 with value: 0.8802673623848668.\n",
            "[I 2025-07-26 21:18:52,089] Trial 90 finished with value: 0.8715976822466273 and parameters: {'C': 0.953983027645881, 'lr_ratio': 0.5116797808942943, 'thrs': 0.7389990542313987}. Best is trial 51 with value: 0.8802673623848668.\n",
            "[I 2025-07-26 21:19:06,246] Trial 91 finished with value: 0.8700888415191942 and parameters: {'C': 1.0571520329360662, 'lr_ratio': 0.5255713859096919, 'thrs': 0.7329937047114852}. Best is trial 51 with value: 0.8802673623848668.\n",
            "[I 2025-07-26 21:19:20,955] Trial 92 finished with value: 0.8552479922547833 and parameters: {'C': 0.9267299236630984, 'lr_ratio': 0.6401153117897106, 'thrs': 0.737854226669378}. Best is trial 51 with value: 0.8802673623848668.\n",
            "[I 2025-07-26 21:19:35,360] Trial 93 finished with value: 0.8696504299307826 and parameters: {'C': 1.1045111725780135, 'lr_ratio': 0.519107386359241, 'thrs': 0.7625205144121409}. Best is trial 51 with value: 0.8802673623848668.\n",
            "[I 2025-07-26 21:19:52,717] Trial 94 finished with value: 0.8527444450562323 and parameters: {'C': 1.2753084903966474, 'lr_ratio': 0.6026533856908345, 'thrs': 0.7837805537926854}. Best is trial 51 with value: 0.8802673623848668.\n",
            "[I 2025-07-26 21:20:12,995] Trial 95 finished with value: 0.8640767943619295 and parameters: {'C': 2.1107782179146675, 'lr_ratio': 0.5131268185231269, 'thrs': 0.7651645861596358}. Best is trial 51 with value: 0.8802673623848668.\n",
            "[I 2025-07-26 21:20:26,356] Trial 96 finished with value: 0.7947227188005027 and parameters: {'C': 0.7581592500143439, 'lr_ratio': 0.5481171602146399, 'thrs': 0.328883501256502}. Best is trial 51 with value: 0.8802673623848668.\n",
            "[I 2025-07-26 21:20:36,668] Trial 97 finished with value: 0.8620919071681346 and parameters: {'C': 0.5284777328267146, 'lr_ratio': 0.542222889690564, 'thrs': 0.7601545832520116}. Best is trial 51 with value: 0.8802673623848668.\n",
            "[I 2025-07-26 21:20:51,623] Trial 98 finished with value: 0.8705267609390988 and parameters: {'C': 1.0582319659619006, 'lr_ratio': 0.512402134712147, 'thrs': 0.7224280391518928}. Best is trial 51 with value: 0.8802673623848668.\n",
            "[I 2025-07-26 21:21:11,981] Trial 99 finished with value: 0.8655518720702662 and parameters: {'C': 1.6532682030628187, 'lr_ratio': 0.6013881825812325, 'thrs': 0.6981621500991444}. Best is trial 51 with value: 0.8802673623848668.\n"
          ]
        }
      ],
      "source": [
        "study.optimize(objective, n_trials=100)"
      ]
    },
    {
      "cell_type": "code",
      "execution_count": 12,
      "metadata": {
        "colab": {
          "base_uri": "https://localhost:8080/",
          "height": 206
        },
        "id": "0bhv1L4HEIO0",
        "outputId": "44d98fae-819c-41a7-f705-bddedf1a35fe"
      },
      "outputs": [
        {
          "data": {
            "application/vnd.microsoft.datawrangler.viewer.v0+json": {
              "columns": [
                {
                  "name": "index",
                  "rawType": "int64",
                  "type": "integer"
                },
                {
                  "name": "number",
                  "rawType": "int64",
                  "type": "integer"
                },
                {
                  "name": "value",
                  "rawType": "float64",
                  "type": "float"
                },
                {
                  "name": "datetime_start",
                  "rawType": "datetime64[ns]",
                  "type": "datetime"
                },
                {
                  "name": "datetime_complete",
                  "rawType": "datetime64[ns]",
                  "type": "datetime"
                },
                {
                  "name": "duration",
                  "rawType": "timedelta64[ns]",
                  "type": "unknown"
                },
                {
                  "name": "params_C",
                  "rawType": "float64",
                  "type": "float"
                },
                {
                  "name": "params_lr_ratio",
                  "rawType": "float64",
                  "type": "float"
                },
                {
                  "name": "params_thrs",
                  "rawType": "float64",
                  "type": "float"
                },
                {
                  "name": "state",
                  "rawType": "object",
                  "type": "string"
                }
              ],
              "ref": "717a859f-0dd3-4060-b7d9-c605f3a86e7d",
              "rows": [
                [
                  "0",
                  "0",
                  "0.8348502620249605",
                  "2025-07-26 20:50:04.992969",
                  "2025-07-26 20:50:47.205981",
                  "0 days 00:00:42.213012",
                  "7.771705089424058",
                  "0.7783057814789166",
                  "0.6320751177245301",
                  "COMPLETE"
                ],
                [
                  "1",
                  "1",
                  "0.7297086898726078",
                  "2025-07-26 20:50:47.207674",
                  "2025-07-26 20:51:47.677555",
                  "0 days 00:01:00.469881",
                  "24.979325234220823",
                  "0.6697665566043789",
                  "0.2183253221856687",
                  "COMPLETE"
                ],
                [
                  "2",
                  "2",
                  "0.7304627233904849",
                  "2025-07-26 20:51:47.679088",
                  "2025-07-26 20:52:43.544670",
                  "0 days 00:00:55.865582",
                  "55.451892812748916",
                  "0.6820178883035428",
                  "0.5930718611494435",
                  "COMPLETE"
                ],
                [
                  "3",
                  "3",
                  "0.8407754315229163",
                  "2025-07-26 20:52:43.548560",
                  "2025-07-26 20:53:22.307490",
                  "0 days 00:00:38.758930",
                  "6.764659585661619",
                  "0.7606126371809446",
                  "0.77525285893477",
                  "COMPLETE"
                ],
                [
                  "4",
                  "4",
                  "0.846349723564403",
                  "2025-07-26 20:53:22.308786",
                  "2025-07-26 20:54:09.516031",
                  "0 days 00:00:47.207245",
                  "12.690178374459716",
                  "0.8730821063499813",
                  "0.7387534481436848",
                  "COMPLETE"
                ]
              ],
              "shape": {
                "columns": 9,
                "rows": 5
              }
            },
            "text/html": [
              "<div>\n",
              "<style scoped>\n",
              "    .dataframe tbody tr th:only-of-type {\n",
              "        vertical-align: middle;\n",
              "    }\n",
              "\n",
              "    .dataframe tbody tr th {\n",
              "        vertical-align: top;\n",
              "    }\n",
              "\n",
              "    .dataframe thead th {\n",
              "        text-align: right;\n",
              "    }\n",
              "</style>\n",
              "<table border=\"1\" class=\"dataframe\">\n",
              "  <thead>\n",
              "    <tr style=\"text-align: right;\">\n",
              "      <th></th>\n",
              "      <th>number</th>\n",
              "      <th>value</th>\n",
              "      <th>datetime_start</th>\n",
              "      <th>datetime_complete</th>\n",
              "      <th>duration</th>\n",
              "      <th>params_C</th>\n",
              "      <th>params_lr_ratio</th>\n",
              "      <th>params_thrs</th>\n",
              "      <th>state</th>\n",
              "    </tr>\n",
              "  </thead>\n",
              "  <tbody>\n",
              "    <tr>\n",
              "      <th>0</th>\n",
              "      <td>0</td>\n",
              "      <td>0.834850</td>\n",
              "      <td>2025-07-26 20:50:04.992969</td>\n",
              "      <td>2025-07-26 20:50:47.205981</td>\n",
              "      <td>0 days 00:00:42.213012</td>\n",
              "      <td>7.771705</td>\n",
              "      <td>0.778306</td>\n",
              "      <td>0.632075</td>\n",
              "      <td>COMPLETE</td>\n",
              "    </tr>\n",
              "    <tr>\n",
              "      <th>1</th>\n",
              "      <td>1</td>\n",
              "      <td>0.729709</td>\n",
              "      <td>2025-07-26 20:50:47.207674</td>\n",
              "      <td>2025-07-26 20:51:47.677555</td>\n",
              "      <td>0 days 00:01:00.469881</td>\n",
              "      <td>24.979325</td>\n",
              "      <td>0.669767</td>\n",
              "      <td>0.218325</td>\n",
              "      <td>COMPLETE</td>\n",
              "    </tr>\n",
              "    <tr>\n",
              "      <th>2</th>\n",
              "      <td>2</td>\n",
              "      <td>0.730463</td>\n",
              "      <td>2025-07-26 20:51:47.679088</td>\n",
              "      <td>2025-07-26 20:52:43.544670</td>\n",
              "      <td>0 days 00:00:55.865582</td>\n",
              "      <td>55.451893</td>\n",
              "      <td>0.682018</td>\n",
              "      <td>0.593072</td>\n",
              "      <td>COMPLETE</td>\n",
              "    </tr>\n",
              "    <tr>\n",
              "      <th>3</th>\n",
              "      <td>3</td>\n",
              "      <td>0.840775</td>\n",
              "      <td>2025-07-26 20:52:43.548560</td>\n",
              "      <td>2025-07-26 20:53:22.307490</td>\n",
              "      <td>0 days 00:00:38.758930</td>\n",
              "      <td>6.764660</td>\n",
              "      <td>0.760613</td>\n",
              "      <td>0.775253</td>\n",
              "      <td>COMPLETE</td>\n",
              "    </tr>\n",
              "    <tr>\n",
              "      <th>4</th>\n",
              "      <td>4</td>\n",
              "      <td>0.846350</td>\n",
              "      <td>2025-07-26 20:53:22.308786</td>\n",
              "      <td>2025-07-26 20:54:09.516031</td>\n",
              "      <td>0 days 00:00:47.207245</td>\n",
              "      <td>12.690178</td>\n",
              "      <td>0.873082</td>\n",
              "      <td>0.738753</td>\n",
              "      <td>COMPLETE</td>\n",
              "    </tr>\n",
              "  </tbody>\n",
              "</table>\n",
              "</div>"
            ],
            "text/plain": [
              "   number     value             datetime_start          datetime_complete  \\\n",
              "0       0  0.834850 2025-07-26 20:50:04.992969 2025-07-26 20:50:47.205981   \n",
              "1       1  0.729709 2025-07-26 20:50:47.207674 2025-07-26 20:51:47.677555   \n",
              "2       2  0.730463 2025-07-26 20:51:47.679088 2025-07-26 20:52:43.544670   \n",
              "3       3  0.840775 2025-07-26 20:52:43.548560 2025-07-26 20:53:22.307490   \n",
              "4       4  0.846350 2025-07-26 20:53:22.308786 2025-07-26 20:54:09.516031   \n",
              "\n",
              "                duration   params_C  params_lr_ratio  params_thrs     state  \n",
              "0 0 days 00:00:42.213012   7.771705         0.778306     0.632075  COMPLETE  \n",
              "1 0 days 00:01:00.469881  24.979325         0.669767     0.218325  COMPLETE  \n",
              "2 0 days 00:00:55.865582  55.451893         0.682018     0.593072  COMPLETE  \n",
              "3 0 days 00:00:38.758930   6.764660         0.760613     0.775253  COMPLETE  \n",
              "4 0 days 00:00:47.207245  12.690178         0.873082     0.738753  COMPLETE  "
            ]
          },
          "execution_count": 12,
          "metadata": {},
          "output_type": "execute_result"
        }
      ],
      "source": [
        "df = study.trials_dataframe()\n",
        "df.head()"
      ]
    },
    {
      "cell_type": "code",
      "execution_count": 18,
      "metadata": {},
      "outputs": [],
      "source": [
        "import plotly"
      ]
    },
    {
      "cell_type": "code",
      "execution_count": 23,
      "metadata": {
        "colab": {
          "base_uri": "https://localhost:8080/"
        },
        "id": "358iAZhQRoPR",
        "outputId": "dfb90d23-4760-482a-f6b7-ec3e9fab3810"
      },
      "outputs": [
        {
          "data": {
            "text/plain": [
              "{'C': 0.4935835883659897,\n",
              " 'lr_ratio': 0.3941342547707365,\n",
              " 'thrs': 0.7587094413433819}"
            ]
          },
          "execution_count": 23,
          "metadata": {},
          "output_type": "execute_result"
        }
      ],
      "source": [
        "# {'C': 0.4935835883659901,\n",
        "#  'lr_ratio': 0.3941342547707363,\n",
        "#  'thrs': 0.7587094413433819}\n",
        "study.best_params"
      ]
    },
    {
      "cell_type": "code",
      "execution_count": 24,
      "metadata": {
        "id": "IGkOX0HmRTci"
      },
      "outputs": [],
      "source": [
        "lr_model2 = LogisticRegression(\n",
        "         C=study.best_params['C'], l1_ratio=study.best_params['lr_ratio'],\n",
        "         penalty='elasticnet', solver='saga',\n",
        "         class_weight='balanced',\n",
        "         max_iter=10000, random_state=42\n",
        "     )"
      ]
    },
    {
      "cell_type": "code",
      "execution_count": 25,
      "metadata": {
        "id": "fX8BqjwyQ7es"
      },
      "outputs": [],
      "source": [
        "coef_arr, score_arr = find_out(X, y, lr_model2, n_boot=400, seed=4356)"
      ]
    },
    {
      "cell_type": "code",
      "execution_count": 26,
      "metadata": {
        "colab": {
          "base_uri": "https://localhost:8080/"
        },
        "id": "KMwaYVgiQ_PU",
        "outputId": "5f01e14b-a600-48fc-da16-9178559b35d9"
      },
      "outputs": [
        {
          "data": {
            "text/plain": [
              "array(['ALDH3A1', 'PIR', 'CLTB', 'TXNRD1', 'NUMA1', 'ETFB', 'HRAS'],\n",
              "      dtype='<U10')"
            ]
          },
          "execution_count": 26,
          "metadata": {},
          "output_type": "execute_result"
        }
      ],
      "source": [
        "indices = np.mean(coef_arr != 0, axis=0) >= study.best_params['thrs']\n",
        "gene_names[indices]"
      ]
    },
    {
      "cell_type": "code",
      "execution_count": 27,
      "metadata": {
        "colab": {
          "base_uri": "https://localhost:8080/"
        },
        "id": "lHuUPrcvhUye",
        "outputId": "96514632-42a0-4ffd-fc68-a955c2fd3688"
      },
      "outputs": [
        {
          "name": "stdout",
          "output_type": "stream",
          "text": [
            "0.9348841853135925 0.8731256774201284\n"
          ]
        },
        {
          "data": {
            "text/plain": [
              "0.010289080949169993"
            ]
          },
          "execution_count": 27,
          "metadata": {},
          "output_type": "execute_result"
        }
      ],
      "source": [
        "boot, oob = rt.evaluateBootstrap(\n",
        "    X, y, lr_model2, indices, n_boot=1000, seed=231, boot_score=True,\n",
        "    use_proba=True, metric=rt.pr_auc\n",
        ")\n",
        "print(boot.mean(), oob.mean())\n",
        "oob.var()"
      ]
    },
    {
      "cell_type": "code",
      "execution_count": 28,
      "metadata": {
        "colab": {
          "base_uri": "https://localhost:8080/"
        },
        "id": "t5ezmN55Axk7",
        "outputId": "4ef31fa5-3a39-49b5-898d-e0b2208b0c82"
      },
      "outputs": [
        {
          "name": "stdout",
          "output_type": "stream",
          "text": [
            "[[30  3]\n",
            " [ 2 12]]\n"
          ]
        },
        {
          "data": {
            "text/plain": [
              "(0.8664127915778683, 0.8275862068965517)"
            ]
          },
          "execution_count": 28,
          "metadata": {},
          "output_type": "execute_result"
        }
      ],
      "source": [
        "train, test = rt.evaluateLOO(\n",
        "    X, y, lr_model2, indices, metric=f1_score, use_proba=False, train_score=True, verbose=1\n",
        ")\n",
        "train.mean(), test"
      ]
    },
    {
      "cell_type": "code",
      "execution_count": 29,
      "metadata": {
        "colab": {
          "base_uri": "https://localhost:8080/"
        },
        "id": "hQZoDW9miZGN",
        "outputId": "b57302f2-8789-4975-8b15-c6902aac8beb"
      },
      "outputs": [
        {
          "name": "stdout",
          "output_type": "stream",
          "text": [
            "[-0.58868392 -0.29782474  0.72941471 -0.1599811   0.75908445  0.31878672\n",
            "  0.50324021]\n",
            "[-0.60239973 -0.25036619  0.7456899  -0.09966627  0.75034951  0.29781366\n",
            "  0.47492911]\n"
          ]
        }
      ],
      "source": [
        "coef_arr1, _ = find_out(X[:,indices], y, lr_model2, n_boot=400, seed=231)\n",
        "print(np.mean(coef_arr1, 0))\n",
        "print(np.median(coef_arr1, 0))"
      ]
    },
    {
      "cell_type": "code",
      "execution_count": 30,
      "metadata": {
        "id": "MIQXnaiP-0mO"
      },
      "outputs": [
        {
          "name": "stdout",
          "output_type": "stream",
          "text": [
            "ALDH3A1\n",
            "PIR\n",
            "CLTB\n",
            "TXNRD1\n",
            "NUMA1\n",
            "ETFB\n",
            "HRAS\n"
          ]
        }
      ],
      "source": [
        "rt.writeln(gene_names[indices])"
      ]
    }
  ],
  "metadata": {
    "colab": {
      "provenance": []
    },
    "kernelspec": {
      "display_name": "Python 3",
      "name": "python3"
    },
    "language_info": {
      "codemirror_mode": {
        "name": "ipython",
        "version": 3
      },
      "file_extension": ".py",
      "mimetype": "text/x-python",
      "name": "python",
      "nbconvert_exporter": "python",
      "pygments_lexer": "ipython3",
      "version": "3.12.5"
    }
  },
  "nbformat": 4,
  "nbformat_minor": 0
}
